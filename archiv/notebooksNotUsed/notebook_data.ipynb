{
 "cells": [
  {
   "cell_type": "code",
   "execution_count": 11,
   "id": "4b8b31d8",
   "metadata": {},
   "outputs": [
    {
     "ename": "KeyError",
     "evalue": "\"None of [Index(['Player', 'VORP', 'BPM', 'PER', 'WS'], dtype='object')] are in the [columns]\"",
     "output_type": "error",
     "traceback": [
      "\u001b[31m---------------------------------------------------------------------------\u001b[39m",
      "\u001b[31mKeyError\u001b[39m                                  Traceback (most recent call last)",
      "\u001b[36mCell\u001b[39m\u001b[36m \u001b[39m\u001b[32mIn[11]\u001b[39m\u001b[32m, line 21\u001b[39m\n\u001b[32m     18\u001b[39m df_adv = pd.read_csv(\u001b[33m\"\u001b[39m\u001b[33mTest_24_25/24_25.csv\u001b[39m\u001b[33m\"\u001b[39m)  \u001b[38;5;66;03m# korrekter Dateiname\u001b[39;00m\n\u001b[32m     20\u001b[39m \u001b[38;5;66;03m# Nur VORP, BPM, PER, WS + Player extrahieren\u001b[39;00m\n\u001b[32m---> \u001b[39m\u001b[32m21\u001b[39m df_adv = \u001b[43mdf_adv\u001b[49m\u001b[43m[\u001b[49m\u001b[43m[\u001b[49m\u001b[33;43m'\u001b[39;49m\u001b[33;43mPlayer\u001b[39;49m\u001b[33;43m'\u001b[39;49m\u001b[43m,\u001b[49m\u001b[43m \u001b[49m\u001b[33;43m'\u001b[39;49m\u001b[33;43mVORP\u001b[39;49m\u001b[33;43m'\u001b[39;49m\u001b[43m,\u001b[49m\u001b[43m \u001b[49m\u001b[33;43m'\u001b[39;49m\u001b[33;43mBPM\u001b[39;49m\u001b[33;43m'\u001b[39;49m\u001b[43m,\u001b[49m\u001b[43m \u001b[49m\u001b[33;43m'\u001b[39;49m\u001b[33;43mPER\u001b[39;49m\u001b[33;43m'\u001b[39;49m\u001b[43m,\u001b[49m\u001b[43m \u001b[49m\u001b[33;43m'\u001b[39;49m\u001b[33;43mWS\u001b[39;49m\u001b[33;43m'\u001b[39;49m\u001b[43m]\u001b[49m\u001b[43m]\u001b[49m.copy()\n\u001b[32m     24\u001b[39m \u001b[38;5;66;03m# 3. Team-Win% Saison 24/25 laden\u001b[39;00m\n\u001b[32m     25\u001b[39m df_team = pd.read_csv(\u001b[33m\"\u001b[39m\u001b[33mTest_24_25/teamranking_24_25.csv\u001b[39m\u001b[33m\"\u001b[39m, sep=\u001b[33m\"\u001b[39m\u001b[33m;\u001b[39m\u001b[33m\"\u001b[39m)\n",
      "\u001b[36mFile \u001b[39m\u001b[32m~/.local/lib/python3.12/site-packages/pandas/core/frame.py:4108\u001b[39m, in \u001b[36mDataFrame.__getitem__\u001b[39m\u001b[34m(self, key)\u001b[39m\n\u001b[32m   4106\u001b[39m     \u001b[38;5;28;01mif\u001b[39;00m is_iterator(key):\n\u001b[32m   4107\u001b[39m         key = \u001b[38;5;28mlist\u001b[39m(key)\n\u001b[32m-> \u001b[39m\u001b[32m4108\u001b[39m     indexer = \u001b[38;5;28;43mself\u001b[39;49m\u001b[43m.\u001b[49m\u001b[43mcolumns\u001b[49m\u001b[43m.\u001b[49m\u001b[43m_get_indexer_strict\u001b[49m\u001b[43m(\u001b[49m\u001b[43mkey\u001b[49m\u001b[43m,\u001b[49m\u001b[43m \u001b[49m\u001b[33;43m\"\u001b[39;49m\u001b[33;43mcolumns\u001b[39;49m\u001b[33;43m\"\u001b[39;49m\u001b[43m)\u001b[49m[\u001b[32m1\u001b[39m]\n\u001b[32m   4110\u001b[39m \u001b[38;5;66;03m# take() does not accept boolean indexers\u001b[39;00m\n\u001b[32m   4111\u001b[39m \u001b[38;5;28;01mif\u001b[39;00m \u001b[38;5;28mgetattr\u001b[39m(indexer, \u001b[33m\"\u001b[39m\u001b[33mdtype\u001b[39m\u001b[33m\"\u001b[39m, \u001b[38;5;28;01mNone\u001b[39;00m) == \u001b[38;5;28mbool\u001b[39m:\n",
      "\u001b[36mFile \u001b[39m\u001b[32m~/.local/lib/python3.12/site-packages/pandas/core/indexes/base.py:6200\u001b[39m, in \u001b[36mIndex._get_indexer_strict\u001b[39m\u001b[34m(self, key, axis_name)\u001b[39m\n\u001b[32m   6197\u001b[39m \u001b[38;5;28;01melse\u001b[39;00m:\n\u001b[32m   6198\u001b[39m     keyarr, indexer, new_indexer = \u001b[38;5;28mself\u001b[39m._reindex_non_unique(keyarr)\n\u001b[32m-> \u001b[39m\u001b[32m6200\u001b[39m \u001b[38;5;28;43mself\u001b[39;49m\u001b[43m.\u001b[49m\u001b[43m_raise_if_missing\u001b[49m\u001b[43m(\u001b[49m\u001b[43mkeyarr\u001b[49m\u001b[43m,\u001b[49m\u001b[43m \u001b[49m\u001b[43mindexer\u001b[49m\u001b[43m,\u001b[49m\u001b[43m \u001b[49m\u001b[43maxis_name\u001b[49m\u001b[43m)\u001b[49m\n\u001b[32m   6202\u001b[39m keyarr = \u001b[38;5;28mself\u001b[39m.take(indexer)\n\u001b[32m   6203\u001b[39m \u001b[38;5;28;01mif\u001b[39;00m \u001b[38;5;28misinstance\u001b[39m(key, Index):\n\u001b[32m   6204\u001b[39m     \u001b[38;5;66;03m# GH 42790 - Preserve name from an Index\u001b[39;00m\n",
      "\u001b[36mFile \u001b[39m\u001b[32m~/.local/lib/python3.12/site-packages/pandas/core/indexes/base.py:6249\u001b[39m, in \u001b[36mIndex._raise_if_missing\u001b[39m\u001b[34m(self, key, indexer, axis_name)\u001b[39m\n\u001b[32m   6247\u001b[39m \u001b[38;5;28;01mif\u001b[39;00m nmissing:\n\u001b[32m   6248\u001b[39m     \u001b[38;5;28;01mif\u001b[39;00m nmissing == \u001b[38;5;28mlen\u001b[39m(indexer):\n\u001b[32m-> \u001b[39m\u001b[32m6249\u001b[39m         \u001b[38;5;28;01mraise\u001b[39;00m \u001b[38;5;167;01mKeyError\u001b[39;00m(\u001b[33mf\u001b[39m\u001b[33m\"\u001b[39m\u001b[33mNone of [\u001b[39m\u001b[38;5;132;01m{\u001b[39;00mkey\u001b[38;5;132;01m}\u001b[39;00m\u001b[33m] are in the [\u001b[39m\u001b[38;5;132;01m{\u001b[39;00maxis_name\u001b[38;5;132;01m}\u001b[39;00m\u001b[33m]\u001b[39m\u001b[33m\"\u001b[39m)\n\u001b[32m   6251\u001b[39m     not_found = \u001b[38;5;28mlist\u001b[39m(ensure_index(key)[missing_mask.nonzero()[\u001b[32m0\u001b[39m]].unique())\n\u001b[32m   6252\u001b[39m     \u001b[38;5;28;01mraise\u001b[39;00m \u001b[38;5;167;01mKeyError\u001b[39;00m(\u001b[33mf\u001b[39m\u001b[33m\"\u001b[39m\u001b[38;5;132;01m{\u001b[39;00mnot_found\u001b[38;5;132;01m}\u001b[39;00m\u001b[33m not in index\u001b[39m\u001b[33m\"\u001b[39m)\n",
      "\u001b[31mKeyError\u001b[39m: \"None of [Index(['Player', 'VORP', 'BPM', 'PER', 'WS'], dtype='object')] are in the [columns]\""
     ]
    }
   ],
   "source": [
    "import pandas as pd\n",
    "\n",
    "# 1. Spielerdaten Saison 24/25 laden und PPG/APG berechnen\n",
    "df_stats = pd.read_csv(\"Test_24_25/ws_24_25.csv\", sep=\";\")\n",
    "\n",
    "# Nur benötigte Spalten extrahieren\n",
    "df_stats = df_stats[['Player', 'Team', 'PTS/G', 'G', 'AST']].copy()\n",
    "\n",
    "# PPG aus PTS/G übernehmen und APG berechnen\n",
    "df_stats['PPG'] = df_stats['PTS/G']\n",
    "df_stats['APG'] = (df_stats['AST'] / df_stats['G']).round(2)\n",
    "\n",
    "# Auf die finalen Spalten reduzieren\n",
    "df_stats = df_stats[['Player', 'Team', 'PPG', 'APG']]\n",
    "\n",
    "\n",
    "# 2. Advanced-Statistiken Saison 24/25 laden\n",
    "df_adv = pd.read_csv(\"Test_24_25/24_25.csv\")  # korrekter Dateiname\n",
    "\n",
    "# Nur VORP, BPM, PER, WS + Player extrahieren\n",
    "df_adv = df_adv[['Player', 'VORP', 'BPM', 'PER', 'WS']].copy()\n",
    "\n",
    "\n",
    "# 3. Team-Win% Saison 24/25 laden\n",
    "df_team = pd.read_csv(\"Test_24_25/teamranking_24_25.csv\", sep=\";\")\n",
    "\n",
    "# Spalte W/L% umbenennen und dann auswählen\n",
    "df_team = df_team.rename(columns={'W/L%': 'Win%'})\n",
    "df_team = df_team[['Team', 'Win%']].copy()\n",
    "\n",
    "\n",
    "# 4. Zusammenführen aller Daten\n",
    "# Spieler-Stats mit Advanced-Stats mergen\n",
    "df_player = pd.merge(df_stats, df_adv, on='Player', how='left')\n",
    "\n",
    "# Ergebnis mit Team-Win% mergen\n",
    "df_final = pd.merge(df_player, df_team, on='Team', how='left')\n",
    "\n",
    "\n",
    "# 5. CSV exportieren für Hugging Face\n",
    "df_final.to_csv(\"data_ready/mvp_input_24_25.csv\", index=False)\n",
    "print(\"Daten für Season 24/25 vorbereitet in data_ready/mvp_input_24_25.csv\")\n"
   ]
  },
  {
   "cell_type": "code",
   "execution_count": 18,
   "id": "34faa50f",
   "metadata": {},
   "outputs": [
    {
     "name": "stdout",
     "output_type": "stream",
     "text": [
      "Bereinigte Advanced-Stats gespeichert als data_clean/advanced_24_25_clean.csv\n"
     ]
    }
   ],
   "source": [
    "import pandas as pd\n",
    "\n",
    "# 1. Advanced-Statistiken Saison 24/25 einlesen (korrekter Separator)\n",
    "df_adv = pd.read_csv(\"Test_24_25/adv_24_25.csv\", sep=\";\")\n",
    "\n",
    "# 2. Nur die relevanten Spalten behalten\n",
    "keep_cols = ['Player', 'WS', 'ORtg', 'DRtg', 'BPM', 'VORP', 'PER']\n",
    "df_adv_clean = df_adv[keep_cols].copy()\n",
    "\n",
    "# 3. Doppelte Spaltennamen (z. B. 'WS' zweimal) bereinigen\n",
    "df_adv_clean = df_adv_clean.loc[:,~df_adv_clean.columns.duplicated()]\n",
    "\n",
    "# 4. Datei speichern\n",
    "df_adv_clean.to_csv(\"Test_24_25/adv_24_25_clean.csv\", index=False)\n",
    "print(\"Bereinigte Advanced-Stats gespeichert als data_clean/advanced_24_25_clean.csv\")\n"
   ]
  },
  {
   "cell_type": "code",
   "execution_count": 22,
   "id": "af1e7444",
   "metadata": {},
   "outputs": [
    {
     "name": "stdout",
     "output_type": "stream",
     "text": [
      "Bereinigte WS-Stats gespeichert als data_clean/ws_24_25_clean.csv\n"
     ]
    }
   ],
   "source": [
    "import pandas as pd\n",
    "\n",
    "# 1. Spielerdaten Saison 24/25 einlesen\n",
    "df_ws = pd.read_csv(\"Test_24_25/ws_24_25.csv\", sep=\";\")\n",
    "\n",
    "# 2. Nur die relevanten Spalten behalten\n",
    "#    'WS' kommt vermutlich doppelt vor – wir nehmen die Win Shares-Spalte\n",
    "#    PTS/G ist 'PTS/G', AST ist Assists, G ist Spiele\n",
    "keep_cols = ['Player', 'Team', 'PTS', 'AST', 'G', 'WS']\n",
    "df_ws_clean = df_ws[keep_cols].copy()\n",
    "\n",
    "# 3. Umbenennen und neue Features berechnen\n",
    "df_ws_clean = df_ws_clean.rename(columns={'PTS': 'PPG'})\n",
    "df_ws_clean['APG'] = (df_ws_clean['AST'] / df_ws_clean['G']).round(2)\n",
    "\n",
    "# 4. Auf die finalen Spalten reduzieren\n",
    "df_ws_clean = df_ws_clean[['Player', 'Team', 'PPG', 'APG', 'WS']]\n",
    "\n",
    "# 5. Datei speichern\n",
    "df_ws_clean.to_csv(\"Test_24_25/ws_24_25_clean.csv\", index=False)\n",
    "print(\"Bereinigte WS-Stats gespeichert als data_clean/ws_24_25_clean.csv\")\n"
   ]
  },
  {
   "cell_type": "code",
   "execution_count": 38,
   "id": "41a49fc7",
   "metadata": {},
   "outputs": [
    {
     "name": "stdout",
     "output_type": "stream",
     "text": [
      "Team-Ranking Spalten nach neuem Einlesen: ['Team', 'W/L%', 'Season']\n"
     ]
    }
   ],
   "source": [
    "import pandas as pd\n",
    "\n",
    "# Korrektes Einlesen (Komma-Separiert)\n",
    "df_team = pd.read_csv(\"Test_24_25/teamranking_24_25.csv\")  # default sep=','\n",
    "\n",
    "# Jetzt sollten die Spalten getrennt vorliegen\n",
    "print(\"Team-Ranking Spalten nach neuem Einlesen:\", df_team.columns.tolist())\n"
   ]
  },
  {
   "cell_type": "code",
   "execution_count": 39,
   "id": "7803267f",
   "metadata": {},
   "outputs": [],
   "source": [
    "# Nur Team und Win% extrahieren\n",
    "df_team_clean = df_team[['Team', 'W/L%']].copy()\n",
    "df_team_clean.columns = ['Team', 'Win%']  # optional umbenennen\n"
   ]
  },
  {
   "cell_type": "code",
   "execution_count": null,
   "id": "2964f239",
   "metadata": {},
   "outputs": [
    {
     "name": "stdout",
     "output_type": "stream",
     "text": [
      "Team-Ranking Spalten: ['Team,W/L%,Season']\n"
     ]
    }
   ],
   "source": [
    "import pandas as pd\n",
    "\n",
    "# 1. Bereinigte CSVs einlesen\n",
    "df_ws   = pd.read_csv(\"Test_24_25/ws_24_25_clean.csv\")\n",
    "df_adv  = pd.read_csv(\"Test_24_25/adv_24_25_clean.csv\")\n",
    "df_team = pd.read_csv(\"Test_24_25/teamranking_24_25.csv\", sep=\";\")\n",
    "\n",
    "# 2. Team-Daten bereinigen und nur Win% behalten\n",
    "df_team = df_team[['Team', 'W/L%']].rename(columns={'W/L%': 'Win%'})\n",
    "\n",
    "# 3. Spieler-Stats und Advanced-Stats mergen\n",
    "df = pd.merge(df_ws, df_adv, on='Player', how='left')\n",
    "\n",
    "# 4. Mit Team-Win% mergen\n",
    "df_final = pd.merge(df, df_team, on='Team', how='left')\n",
    "\n",
    "# 5. Finale CSV speichern\n",
    "df_final.to_csv(\"data_clean/24_25.csv\", index=False)\n",
    "print(\"Finale Datei für 24/25 erstellt: data_clean/24_25.csv\")\n"
   ]
  },
  {
   "cell_type": "code",
   "execution_count": 42,
   "id": "f11d975d",
   "metadata": {},
   "outputs": [
    {
     "name": "stdout",
     "output_type": "stream",
     "text": [
      "Finale Datei erstellt: data_clean/24_25.csv\n",
      "                    Player Team   PPG   APG    WS  ORtg  DRtg   BPM  VORP  \\\n",
      "0  Shai Gilgeous-Alexander  OKC  32.7  0.08  16.7   129   107  11.5   8.9   \n",
      "1             Nikola Jokić  DEN  29.6  0.15  16.4   133   111  13.3   9.8   \n",
      "2              Ivica Zubac  LAC  16.8  0.03  11.7   129   108   3.1   3.4   \n",
      "3            Jarrett Allen  CLE  13.5  0.02  11.6   142   108   4.2   3.6   \n",
      "4    Giannis Antetokounmpo  MIL  30.4  0.10  11.5   122   109   9.5   6.6   \n",
      "\n",
      "    PER   Win%  \n",
      "0  30.7  0.829  \n",
      "1  32.0  0.610  \n",
      "2  22.3  0.610  \n",
      "3  22.1  0.780  \n",
      "4  30.5  0.585  \n"
     ]
    }
   ],
   "source": [
    "# 1. Bereinigte CSVs einlesen\n",
    "\n",
    "import pandas as pd\n",
    "\n",
    "df_ws   = pd.read_csv(\"Test_24_25/ws_24_25_clean.csv\")\n",
    "df_adv  = pd.read_csv(\"Test_24_25/adv_24_25_clean.csv\")\n",
    "\n",
    "# 2. Nur Team und Win% extrahieren\n",
    "df_team = df_team[['Team', 'Win%']].copy()\n",
    "df_team.columns = ['Team', 'Win%']\n",
    "\n",
    "# 3. Spieler-Stats und Advanced-Stats zusammenführen\n",
    "df_player = pd.merge(df_ws, df_adv.drop(columns=['WS']), on='Player', how='left')\n",
    "# (Achtung: 'WS' kann in beiden vorkommen, wir behalten die aus df_ws)\n",
    "\n",
    "# 4. Mit Team-Win% mergen\n",
    "df_final = pd.merge(df_player, df_team, on='Team', how='left')\n",
    "\n",
    "# 5. Finale CSV speichern und prüfen\n",
    "df_final.to_csv(\"Test_24_25/24_25.csv\", index=False)\n",
    "print(\"Finale Datei erstellt: data_clean/24_25.csv\")\n",
    "print(df_final.head())\n"
   ]
  }
 ],
 "metadata": {
  "kernelspec": {
   "display_name": "Python 3",
   "language": "python",
   "name": "python3"
  },
  "language_info": {
   "codemirror_mode": {
    "name": "ipython",
    "version": 3
   },
   "file_extension": ".py",
   "mimetype": "text/x-python",
   "name": "python",
   "nbconvert_exporter": "python",
   "pygments_lexer": "ipython3",
   "version": "3.12.1"
  }
 },
 "nbformat": 4,
 "nbformat_minor": 5
}
