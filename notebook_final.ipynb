{
 "cells": [
  {
   "cell_type": "markdown",
   "id": "88f2da11",
   "metadata": {},
   "source": [
    "# NBA MVP Prediction – End-to-End Machine Learning Projekt\n",
    "### Einleitung\n",
    "Ziel dieses Projekts ist es, ein Machine-Learning-Modell zu entwickeln, das vorhersagen kann, ob ein NBA-Spieler MVP wird. Dabei handelt es sich um ein Klassifikationsproblem. Die Vorhersage basiert auf Spielerstatistiken sowie Teamleistungen. Das Projekt wird vollständig dokumentiert, inklusive Datenbeschaffung, Aufbereitung, Modelltraining und Deployment.\n",
    "\n",
    "Verwendete Hauptbibliotheken:\n",
    "pandas: Datenimport, -bereinigung und -analyse\n",
    "\n",
    "numpy: Numerische Berechnungen\n",
    "\n",
    "scikit-learn: Machine Learning Modelle, Evaluation, Datenaufteilung\n",
    "\n",
    "matplotlib & seaborn: Visualisierung\n",
    "\n",
    "jupyter: Interaktive Entwicklung und Präsentation im Notebook\n",
    "\n",
    "huggingface_hub: Deployment auf Hugging Face\n"
   ]
  },
  {
   "cell_type": "code",
   "execution_count": 28,
   "id": "f6ea455c",
   "metadata": {},
   "outputs": [],
   "source": [
    "# Datenmanipulation\n",
    "import pandas as pd\n",
    "import numpy as np\n",
    "\n",
    "# Visualisierung\n",
    "import matplotlib.pyplot as plt\n",
    "import seaborn as sns\n",
    "\n",
    "# XGBoost\n",
    "import xgboost as xgb\n",
    "from xgboost import XGBClassifier\n",
    "\n",
    "# Machine Learning – Modelle & Tools\n",
    "from sklearn.model_selection import train_test_split, GridSearchCV\n",
    "from sklearn.model_selection import cross_val_score, StratifiedKFold\n",
    "from sklearn.ensemble import RandomForestClassifier\n",
    "from sklearn.linear_model import LogisticRegression\n",
    "from sklearn.metrics import accuracy_score, precision_score, recall_score, f1_score, confusion_matrix, roc_auc_score, roc_curve\n",
    "\n",
    "# Optional – Web Scraping & API\n",
    "import requests\n",
    "from bs4 import BeautifulSoup\n",
    "\n",
    "# Hugging Face Deployment\n",
    "from huggingface_hub import InferenceClient, login\n",
    "\n",
    "# Jupyter spezifisch (für Plot-Darstellung inline)\n",
    "%matplotlib inline\n"
   ]
  },
  {
   "cell_type": "markdown",
   "id": "2e29a656",
   "metadata": {},
   "source": [
    "# 1. Datenakquise und Datenstruktur\n",
    "\n",
    "In diesem Projekt wurden die benötigten Daten aus drei verschiedenen Quellen manuell beschafft und kombiniert. Ziel war es, aus öffentlich zugänglichen Statistiken ein konsistentes Machine-Learning-Datenset für die NBA-Saisons von **2004/05 bis 2023/24** zu erstellen.\n",
    "\n",
    "### Quellen:\n",
    "- [Basketball Reference](https://www.basketball-reference.com/)\n",
    "- [Stathead.com](https://www.stathead.com/)\n",
    "\n",
    "### Verwendete Datensätze:\n",
    "\n",
    "1. **MVP-Daten**  \n",
    "   Für jede Saison wurde der Most Valuable Player (MVP) manuell von *Basketball Reference* entnommen. Erfasst wurden:\n",
    "   - Spielername  \n",
    "   - Team  \n",
    "   - Saison\n",
    "\n",
    "2. **Team-Winrate (Regular Season Standings)**  \n",
    "   Über *Stathead.com* wurden für jede Saison die regulären Saisonplatzierungen extrahiert. Verwendet wurden:\n",
    "   - Teamname  \n",
    "   - Winrate (Siege / Spiele)\n",
    "\n",
    "3. **Spielerstatistiken**  \n",
    "   Ebenfalls über *Stathead.com* wurden für jede Saison die Top 200 Spieler nach Punkten pro Spiel (PPG) ausgewählt. Zusätzlich wurden folgende Werte berechnet:\n",
    "   - **RPG (Rebounds pro Spiel)** = Total Rebounds / Games Played  \n",
    "   - **APG (Assists pro Spiel)** = Total Assists / Games Played  \n",
    "   Erfasst wurden:\n",
    "   - Spielername  \n",
    "   - Team  \n",
    "   - Saison  \n",
    "   - Punkte pro Spiel (PPG)  \n",
    "   - Rebounds pro Spiel (RPG)  \n",
    "   - Assists pro Spiel (APG)\n",
    "\n",
    "### Zusammenführung der Daten\n",
    "\n",
    "Die drei Datensätze wurden pro Saison anhand von Spielername, Team und Saison zusammengeführt. Die finale Datenstruktur eines kombinierten Eintrags sieht folgendermaßen aus:\n",
    "\n",
    "Season | Player | Team | Winrate | PPG | RPG | APG | MVP\n",
    "\n",
    "- Die Spalte **MVP** ist die Zielvariable und nimmt den Wert **1** für den MVP der Saison an, sonst **0**.\n",
    "- Danach wurden alle Saisons von 2004/05 bis 2023/24 zu einem Gesamtdatensatz zusammengeführt, der als Grundlage für Feature Engineering, Modelltraining und Evaluation dient.\n",
    "\n",
    "### Tools:\n",
    "- Python (für Verarbeitung, Analyse und Modellierung)\n",
    "- Manuelles CSV-Scraping oder Exportfunktionen von Stathead.com und Basketball Reference\n",
    "\n"
   ]
  },
  {
   "cell_type": "markdown",
   "id": "363fade6",
   "metadata": {},
   "source": [
    "## MVP Daten (04/05 - 23/24)\n",
    "\n",
    "Dieses Skript verarbeitet die MVP-Voting-Daten der Saisons 2004/05 bis 2023/24.\n",
    "Ziel ist es, aus den rohen CSV-Dateien pro Saison einheitliche, saubere Daten im Format\n",
    "Player, Team, PPG, RPG, APG, Season, MVP (1/0) zu extrahieren.\n",
    "Die bereinigten Daten werden in einer CSV-Datei gespeichert und sind bereit für das spätere Mergin"
   ]
  },
  {
   "cell_type": "code",
   "execution_count": 29,
   "id": "e2be5f8e",
   "metadata": {},
   "outputs": [
    {
     "name": "stdout",
     "output_type": "stream",
     "text": [
      "❌ Keine gültigen MVP-Daten geladen.\n"
     ]
    }
   ],
   "source": [
    "# 📓 Notebook-Sektion: MVP-Daten einlesen und vorbereiten\n",
    "\n",
    "import pandas as pd\n",
    "import glob\n",
    "import os\n",
    "\n",
    "# 1. Pfad zur MVP-Datenquelle definieren\n",
    "base_path = \"Data_dirty/mvp\"\n",
    "\n",
    "# 2. Alle CSV-Dateien im MVP-Ordner finden\n",
    "mvp_files = glob.glob(os.path.join(base_path, \"*.csv\"))\n",
    "\n",
    "# 3. Vorbereitung: Liste zum Speichern der sauberen DataFrames\n",
    "mvp_dfs = []\n",
    "\n",
    "# 4. Jede MVP-Datei einlesen, bereinigen & in Zielstruktur bringen\n",
    "for file in mvp_files:\n",
    "    try:\n",
    "        #Saison aus Dateiname extrahieren (z. B. \"mvp_04_05.csv\")\n",
    "        season = os.path.splitext(os.path.basename(file))[0].split(\"_\")[-2] + \"/\" + os.path.splitext(os.path.basename(file))[0].split(\"_\")[-1]\n",
    "\n",
    "        #CSV ohne Header einlesen, da keine echten Spaltennamen vorhanden\n",
    "        df = pd.read_csv(file, sep=\";\", encoding=\"utf-8\", header=None)\n",
    "\n",
    "        #Saison als neue Spalte ergänzen\n",
    "        df[\"Season\"] = season\n",
    "\n",
    "        #Spalte mit -9999 entfernen, falls vorhanden\n",
    "        df = df.loc[:, ~df.columns.astype(str).str.contains(\"-9999\", na=False)]\n",
    "\n",
    "        #MVP_Label setzen: Wenn erste Spalte == 1 → MVP\n",
    "        df[\"MVP\"] = df[0].apply(lambda x: 1 if str(x).strip() == \"1\" else 0)\n",
    "\n",
    "        #Zielstruktur extrahieren (Spaltenpositionen manuell geprüft)\n",
    "        df_clean = pd.DataFrame({\n",
    "            \"Player\": df[1],\n",
    "            \"Team\": df[3],\n",
    "            \"PPG\": df[10],\n",
    "            \"RPG\": df[11],\n",
    "            \"APG\": df[12],\n",
    "            \"Season\": df[\"Season\"],\n",
    "            \"MVP\": df[\"MVP\"]\n",
    "        })\n",
    "\n",
    "        #bereinigte Version speichern\n",
    "        mvp_dfs.append(df_clean)\n",
    "\n",
    "    except Exception as e:\n",
    "        print(f\"❌ Fehler beim Verarbeiten von {file}: {e}\")\n",
    "\n",
    "# Ergebnis: Alle Saisons in ein DataFrame zusammenführen\n",
    "if mvp_dfs:\n",
    "    df_mvp_final = pd.concat(mvp_dfs, ignore_index=True)\n",
    "    display(df_mvp_final.head())\n",
    "    print(f\"\\n✅ {len(df_mvp_final)} Zeilen finaler MVP-Datensatz bereit.\")\n",
    "\n",
    "    # Finalen MVP-Datensatz speichern\n",
    "    os.makedirs(\"data_clean\", exist_ok=True)\n",
    "    df_mvp_final.to_csv(\"data_clean/mvp_final.csv\", index=False)\n",
    "    print(\"💾 Datei gespeichert unter: data_clean/mvp_final.csv\")\n",
    "else:\n",
    "    print(\"❌ Keine gültigen MVP-Daten geladen.\")\n"
   ]
  },
  {
   "cell_type": "markdown",
   "id": "46ee5717",
   "metadata": {},
   "source": [
    "## Player Stats (04/05 - 23/24)\n",
    "\n",
    "Dieses Notebook-Skript verarbeitet die Spielerstatistiken der Saisons 2004/05 bis 2023/24.\n",
    "Da die Dateien keine echten Header-Zeilen enthalten, werden feste Spaltenpositionen verwendet.\n",
    "Es werden berechnet:\n",
    "- APG = AST / G\n",
    "- RPG = TRB / G\n",
    "- PPG wird direkt aus der Datei entnommen (zuvor berechnet).\n",
    "Zielspalten: Player, Team, PPG, RPG, APG, Season\n",
    "Hinweis: Nicht-numerische Werte wie 'G' oder Spaltenköpfe in Datenzeilen werden übersprungen."
   ]
  },
  {
   "cell_type": "code",
   "execution_count": 30,
   "id": "f50751ec",
   "metadata": {},
   "outputs": [
    {
     "name": "stdout",
     "output_type": "stream",
     "text": [
      "Spielerstatistik gespeichert unter: data_clean/player_stats_final.csv\n"
     ]
    }
   ],
   "source": [
    "# 1. Pfad zum Player-Stats-Ordner definieren\n",
    "base_path = \"data_dirty/player_stats\"\n",
    "player_files = glob.glob(os.path.join(base_path, \"*.csv\"))\n",
    "\n",
    "# 2. Liste zum Sammeln der bereinigten DataFrames\n",
    "player_dfs = []\n",
    "\n",
    "# 3. Jede Datei laden, berechnen und vorbereiten\n",
    "for file in player_files:\n",
    "    try:\n",
    "        # Saison extrahieren aus Dateinamen\n",
    "        season = os.path.splitext(os.path.basename(file))[0].split(\"_\")[-2] + \"/\" + os.path.splitext(os.path.basename(file))[0].split(\"_\")[-1]\n",
    "\n",
    "        # CSV einlesen – ohne Header, weil Daten direkt ab erster Zeile\n",
    "        df = pd.read_csv(file, sep=\";\", encoding=\"utf-8\", header=None)\n",
    "\n",
    "        # Nur Zeilen behalten, die numerisch sind (z. B. nicht \"G\" oder \"Player\")\n",
    "        df = df[df[6].apply(lambda x: str(x).replace('.', '', 1).isdigit())]\n",
    "\n",
    "        # Zielstruktur über feste Spaltenpositionen extrahieren\n",
    "        df_clean = pd.DataFrame({\n",
    "            \"Player\": df[1],\n",
    "            \"Team\": df[5],\n",
    "            \"G\": df[6].astype(float),\n",
    "            \"PPG\": df[2].astype(float),\n",
    "            \"TRB\": df[20].astype(float),\n",
    "            \"AST\": df[21].astype(float),\n",
    "            \"Season\": season\n",
    "        })\n",
    "\n",
    "        # Statistiken berechnen und runden\n",
    "        df_clean[\"RPG\"] = (df_clean[\"TRB\"] / df_clean[\"G\"]).round(1)\n",
    "        df_clean[\"APG\"] = (df_clean[\"AST\"] / df_clean[\"G\"]).round(1)\n",
    "\n",
    "        # Finale Spaltenauswahl\n",
    "        df_final = df_clean[[\"Player\", \"Team\", \"Season\", \"PPG\", \"RPG\", \"APG\"]]\n",
    "\n",
    "        player_dfs.append(df_final)\n",
    "\n",
    "    except Exception as e:\n",
    "        print(f\"Fehler in Datei {file}: {e}\")\n",
    "\n",
    "# 4. Gesamten Player-Stats-Datensatz zusammenfügen und speichern\n",
    "if player_dfs:\n",
    "    df_stats_final = pd.concat(player_dfs, ignore_index=True)\n",
    "    os.makedirs(\"data_clean\", exist_ok=True)\n",
    "    df_stats_final.to_csv(\"data_clean/player_stats_final.csv\", index=False)\n",
    "    print(\"Spielerstatistik gespeichert unter: data_clean/player_stats_final.csv\")\n",
    "else:\n",
    "    print(\"Keine gültigen Player-Statistik-Dateien gefunden.\")\n"
   ]
  },
  {
   "cell_type": "markdown",
   "id": "b5a13f35",
   "metadata": {},
   "source": [
    "## Team Stats (04/05 - 23/24)\n",
    "Dieses Notebook-Skript verarbeitet die Team-Siegquoten von 2004/05 bis 2023/24.\n",
    "Ziel ist es, aus jeder CSV-Datei die Teamnamen und die Win Percentage (W/L%) auszulesen\n",
    "und mit der jeweiligen Saison in einem einheitlichen DataFrame zu speichern."
   ]
  },
  {
   "cell_type": "code",
   "execution_count": 31,
   "id": "4b632289",
   "metadata": {},
   "outputs": [
    {
     "name": "stdout",
     "output_type": "stream",
     "text": [
      "Team-Winrate-Daten gespeichert unter: data_clean/team_winrate_final.csv\n"
     ]
    }
   ],
   "source": [
    "# 1. Pfad zum Team-Winrate-Ordner definieren\n",
    "base_path = \"data_dirty/team_winrates\"\n",
    "team_files = glob.glob(os.path.join(base_path, \"*.csv\"))\n",
    "\n",
    "# 2. Liste zum Sammeln der bereinigten DataFrames\n",
    "team_dfs = []\n",
    "\n",
    "# 3. Jede Datei einlesen und vorbereiten\n",
    "for file in team_files:\n",
    "    try:\n",
    "        # Saison extrahieren\n",
    "        season = os.path.splitext(os.path.basename(file))[0].split(\"_\")[-2] + \"/\" + os.path.splitext(os.path.basename(file))[0].split(\"_\")[-1]\n",
    "\n",
    "        # CSV einlesen – mit Header ab Zeile 1\n",
    "        df = pd.read_csv(file, sep=\";\", encoding=\"utf-8\", header=0)\n",
    "\n",
    "        # Nur Teams und Win Percentage extrahieren\n",
    "        df_clean = pd.DataFrame({\n",
    "            \"Team\": df[\"Team\"],\n",
    "            \"Win%\": df[\"W/L%\"],\n",
    "            \"Season\": season\n",
    "        })\n",
    "\n",
    "        team_dfs.append(df_clean)\n",
    "\n",
    "    except Exception as e:\n",
    "        print(f\"Fehler in Datei {file}: {e}\")\n",
    "\n",
    "# 4. Gesamten Team-Winrate-Datensatz zusammenfügen und speichern\n",
    "if team_dfs:\n",
    "    df_teams_final = pd.concat(team_dfs, ignore_index=True)\n",
    "    os.makedirs(\"data_clean\", exist_ok=True)\n",
    "    df_teams_final.to_csv(\"data_clean/team_winrate_final.csv\", index=False)\n",
    "    print(\"Team-Winrate-Daten gespeichert unter: data_clean/team_winrate_final.csv\")\n",
    "else:\n",
    "    print(\"Keine gültigen Team-Winrate-Dateien gefunden.\")"
   ]
  },
  {
   "cell_type": "markdown",
   "id": "3ec648d5",
   "metadata": {},
   "source": [
    "# 2. Datenbereinigung (Data Cleaning)\n"
   ]
  },
  {
   "cell_type": "markdown",
   "id": "948f6d08",
   "metadata": {},
   "source": [
    "## Pre-Merge Checks\n",
    "In diesem Abschnitt bereinigen wir die drei vorbereiteten Datensätze\n",
    "(MVP, Spielerstatistiken, Team-Winrate) und führen wichtige Pre-Merge-Checks durch:\n",
    "- Einheitliche Schreibweise für Schlüsselspalten\n",
    "- Duplikatprüfung\n",
    "- Prüfung auf fehlende Werte (NaNs)\n",
    "- Prüfung auf Spieler mit mehreren Teams in einer Saison"
   ]
  },
  {
   "cell_type": "code",
   "execution_count": null,
   "id": "364957fa",
   "metadata": {},
   "outputs": [
    {
     "name": "stdout",
     "output_type": "stream",
     "text": [
      "Spalten in MVP: ['Player', 'Team', 'PPG', 'RPG', 'APG', 'Season', 'MVP']\n",
      "Spalten in Stats: ['Rk;Player;PTS/G;Season;Age;Team;G;GS;AS;MP;FG;FGA;2P;2PA;3P;3PA;FT;FTA;ORB;DRB;TRB;AST;STL;BLK;TOV;PF;PTS;FG%;2P%;3P%;FT%;TS%;eFG%;Pos;Player-additional']\n",
      "Spalten in Teams: ['Team', 'Win%', 'Season']\n"
     ]
    }
   ],
   "source": [
    "# CSV-Dateien laden\n",
    "mvp = pd.read_csv(\"data_clean/mvp_final.csv\")\n",
    "stats = pd.read_csv(\"data_clean/player_stats_final.csv\")\n",
    "teams = pd.read_csv(\"data_clean/team_winrate_final.csv\")\n"
   ]
  },
  {
   "cell_type": "code",
   "execution_count": 55,
   "id": "b07b671c",
   "metadata": {},
   "outputs": [],
   "source": [
    "if df_stats.columns.size == 1 and \";\" in df_stats.columns[0]:\n",
    "    df_stats = pd.read_csv(\"data_clean/player_stats_final.csv\", sep=\",\", encoding=\"utf-8\")"
   ]
  },
  {
   "cell_type": "code",
   "execution_count": 57,
   "id": "021e16e9",
   "metadata": {},
   "outputs": [
    {
     "name": "stdout",
     "output_type": "stream",
     "text": [
      "Spalten in MVP: ['Player', 'Team', 'PPG', 'RPG', 'APG', 'Season', 'MVP']\n",
      "Spalten in Stats: ['Player', 'Team', 'Season', 'PPG', 'RPG', 'APG']\n",
      "Spalten in Teams: ['Team', 'Win%', 'Season']\n"
     ]
    }
   ],
   "source": [
    "# Spalten prüfen\n",
    "print(\"Spalten in MVP:\", df_mvp.columns.tolist())\n",
    "print(\"Spalten in Stats:\", df_stats.columns.tolist())\n",
    "print(\"Spalten in Teams:\", df_team.columns.tolist())\n"
   ]
  },
  {
   "cell_type": "code",
   "execution_count": 58,
   "id": "39e2d8bb",
   "metadata": {},
   "outputs": [],
   "source": [
    "# 3. Schreibweise vereinheitlichen\n",
    "for df in [df_mvp, df_stats, df_team]:\n",
    "    if \"Player\" in df.columns:\n",
    "        df[\"Player\"] = df[\"Player\"].astype(str).str.strip()\n",
    "    if \"Team\" in df.columns:\n",
    "        df[\"Team\"] = df[\"Team\"].astype(str).str.upper().str.strip()\n",
    "    if \"Season\" in df.columns:\n",
    "        df[\"Season\"] = df[\"Season\"].astype(str).str.strip()\n"
   ]
  },
  {
   "cell_type": "code",
   "execution_count": 59,
   "id": "11cc2e44",
   "metadata": {},
   "outputs": [
    {
     "name": "stdout",
     "output_type": "stream",
     "text": [
      "\n",
      "Fehlende Werte je Spalte:\n",
      "MVP: Player    0\n",
      "Team      0\n",
      "PPG       0\n",
      "RPG       0\n",
      "APG       0\n",
      "Season    0\n",
      "MVP       0\n",
      "dtype: int64\n",
      "Stats: Player    0\n",
      "Team      0\n",
      "Season    0\n",
      "PPG       0\n",
      "RPG       0\n",
      "APG       0\n",
      "dtype: int64\n",
      "Teams: Team      0\n",
      "Win%      0\n",
      "Season    0\n",
      "dtype: int64\n"
     ]
    }
   ],
   "source": [
    "# 4. NaN-Prüfung\n",
    "print(\"\\nFehlende Werte je Spalte:\")\n",
    "print(\"MVP:\", df_mvp.isna().sum())\n",
    "print(\"Stats:\", df_stats.isna().sum())\n",
    "print(\"Teams:\", df_team.isna().sum())"
   ]
  },
  {
   "cell_type": "code",
   "execution_count": 60,
   "id": "031cf0c5",
   "metadata": {},
   "outputs": [
    {
     "name": "stdout",
     "output_type": "stream",
     "text": [
      "\n",
      "Duplikate:\n",
      "MVP: 0\n",
      "Stats: 0\n"
     ]
    }
   ],
   "source": [
    "\n",
    "# 5. Duplikate prüfen (Player + Season)\n",
    "print(\"\\nDuplikate:\")\n",
    "if \"Player\" in df_mvp.columns and \"Season\" in df_mvp.columns:\n",
    "    print(\"MVP:\", df_mvp.duplicated(subset=[\"Player\", \"Season\"]).sum())\n",
    "if \"Player\" in df_stats.columns and \"Season\" in df_stats.columns:\n",
    "    print(\"Stats:\", df_stats.duplicated(subset=[\"Player\", \"Season\"]).sum())\n",
    "\n"
   ]
  },
  {
   "cell_type": "code",
   "execution_count": 61,
   "id": "4a7f50c0",
   "metadata": {},
   "outputs": [
    {
     "name": "stdout",
     "output_type": "stream",
     "text": [
      "\n",
      "Spieler mit mehreren Teams in einer Saison:\n",
      "Empty DataFrame\n",
      "Columns: [Player, Season, Team]\n",
      "Index: []\n",
      "\n",
      "Anzahl betroffener Spieler: 0\n"
     ]
    }
   ],
   "source": [
    "# 6. Spieler mit mehreren Teams pro Saison prüfen\n",
    "if \"Player\" in df_stats.columns and \"Season\" in df_stats.columns and \"Team\" in df_stats.columns:\n",
    "    mehrfach_teams = df_stats.groupby([\"Player\", \"Season\"])[\"Team\"].nunique().reset_index()\n",
    "    mehrfach_teams = mehrfach_teams[mehrfach_teams[\"Team\"] > 1]\n",
    "    print(\"\\nSpieler mit mehreren Teams in einer Saison:\")\n",
    "    print(mehrfach_teams)\n",
    "    print(\"\\nAnzahl betroffener Spieler:\", mehrfach_teams.shape[0])"
   ]
  },
  {
   "cell_type": "markdown",
   "id": "c268614a",
   "metadata": {},
   "source": [
    "## 3. Datenzusammenführung (Data Merging)\n",
    "In diesem Abschnitt führen wir die drei bereinigten Datensätze zusammen:\n",
    "1. MVP-Daten (inkl. MVP-Label)\n",
    "2. Spielerstatistiken (ausgeschlossen: Spieler mit mehreren Teams pro Saison)\n",
    "3. Team-Winrates\n",
    "\n",
    "Ziel ist ein einheitlicher, vollständiger Datensatz mit folgenden Spalten:\n",
    "Player, Team, Season, PPG, RPG, APG, Win%, MVP\n"
   ]
  },
  {
   "cell_type": "code",
   "execution_count": 76,
   "id": "cda6fd16",
   "metadata": {},
   "outputs": [],
   "source": [
    "# 1. Spieler mit mehreren Teams entfernen\n",
    "\n",
    "# Hinweis: Spieler mit Teamkürzel länger als 3 Buchstaben entfernen,\n",
    "# da dies meist zusammengesetzte Teams sind (bei Teamwechsel in einer Saison)\n",
    "df_stats = df_stats[df_stats[\"Team\"].str.len() == 3]\n",
    "\n",
    "# Team-Kürzel-Anpassungen: historische Namensänderungen berücksichtigen\n",
    "def vereinheitliche_teamnamen(team):\n",
    "    if team == \"SEA\":\n",
    "        return \"OKC\"\n",
    "    if team == \"CHA\":\n",
    "        return \"CHO\"\n",
    "    return team"
   ]
  },
  {
   "cell_type": "code",
   "execution_count": 77,
   "id": "a587268e",
   "metadata": {},
   "outputs": [],
   "source": [
    "# Anwenden auf alle relevanten DataFrames\n",
    "df_mvp[\"Team\"] = df_mvp[\"Team\"].apply(vereinheitliche_teamnamen)\n",
    "df_stats[\"Team\"] = df_stats[\"Team\"].apply(vereinheitliche_teamnamen)\n",
    "df_team[\"Team\"] = df_team[\"Team\"].apply(vereinheitliche_teamnamen)\n",
    "mehrfach = df_stats.groupby([\"Player\", \"Season\"])[\"Team\"].nunique().reset_index()\n",
    "mehrfach = mehrfach[mehrfach[\"Team\"] > 1]\n",
    "df_stats = df_stats.merge(mehrfach[[\"Player\", \"Season\"]], on=[\"Player\", \"Season\"], how=\"left\", indicator=True)\n",
    "df_stats = df_stats[df_stats[\"_merge\"] == \"left_only\"].drop(columns=[\"_merge\"])"
   ]
  },
  {
   "cell_type": "code",
   "execution_count": 78,
   "id": "0c63e1e7",
   "metadata": {},
   "outputs": [],
   "source": [
    "#  MVP-Daten mit Team-Winrate verbinden\n",
    "df_mvp_merged = df_mvp.merge(df_team, on=[\"Team\", \"Season\"], how=\"left\")"
   ]
  },
  {
   "cell_type": "code",
   "execution_count": 79,
   "id": "b745d6f0",
   "metadata": {},
   "outputs": [],
   "source": [
    "# Spieler aus df_stats, die nicht in df_mvp sind (Rest der Liga)\n",
    "df_keys = df_mvp[[\"Player\", \"Season\"]].drop_duplicates()\n",
    "df_rest = df_stats.merge(df_keys, on=[\"Player\", \"Season\"], how=\"left\", indicator=True)\n",
    "df_rest = df_rest[df_rest[\"_merge\"] == \"left_only\"].drop(columns=[\"_merge\"])\n",
    "df_rest[\"MVP\"] = 0"
   ]
  },
  {
   "cell_type": "code",
   "execution_count": 80,
   "id": "ff9b2aa5",
   "metadata": {},
   "outputs": [],
   "source": [
    "# Restliche Spieler mit Team-Winrate verbinden\n",
    "df_rest = df_rest.merge(df_team, on=[\"Team\", \"Season\"], how=\"left\")"
   ]
  },
  {
   "cell_type": "code",
   "execution_count": 81,
   "id": "691372b3",
   "metadata": {},
   "outputs": [],
   "source": [
    "# Beide DataFrames zusammenführen\n",
    "df_mvp_final = df_mvp_merged[[\"Player\", \"Team\", \"Season\", \"PPG\", \"RPG\", \"APG\", \"Win%\", \"MVP\"]]\n",
    "df_rest_final = df_rest[[\"Player\", \"Team\", \"Season\", \"PPG\", \"RPG\", \"APG\", \"Win%\", \"MVP\"]]\n",
    "df_final = pd.concat([df_mvp_final, df_rest_final], ignore_index=True)"
   ]
  },
  {
   "cell_type": "code",
   "execution_count": 82,
   "id": "f40135ec",
   "metadata": {},
   "outputs": [
    {
     "name": "stdout",
     "output_type": "stream",
     "text": [
      "Finaler Datensatz gespeichert unter: data_clean/final_dataset.csv\n"
     ]
    }
   ],
   "source": [
    "# Exportieren\n",
    "df_final.to_csv(\"data_clean/final_dataset.csv\", index=False)\n",
    "print(\"Finaler Datensatz gespeichert unter: data_clean/final_dataset.csv\")"
   ]
  },
  {
   "cell_type": "code",
   "execution_count": 84,
   "id": "1bb700f5",
   "metadata": {},
   "outputs": [
    {
     "name": "stdout",
     "output_type": "stream",
     "text": [
      "Anzahl MVPs im final_dataset.csv: 20\n",
      "\n",
      "MVPs pro Saison:\n",
      "Season\n",
      "04/05    1\n",
      "05/06    1\n",
      "06/07    1\n",
      "07/08    1\n",
      "08/09    1\n",
      "09/10    1\n",
      "10/11    1\n",
      "11/12    1\n",
      "12/13    1\n",
      "13/14    1\n",
      "14/15    1\n",
      "15/16    1\n",
      "16/17    1\n",
      "17/18    1\n",
      "18/19    1\n",
      "19/20    1\n",
      "20/21    1\n",
      "21/22    1\n",
      "22/23    1\n",
      "23/24    1\n",
      "dtype: int64\n"
     ]
    }
   ],
   "source": [
    "# Anzahl MVPs im finalen Datensatz zählen\n",
    "anzahl_mvps = df_final[df_final[\"MVP\"] == 1].shape[0]\n",
    "print(f\"Anzahl MVPs im final_dataset.csv: {anzahl_mvps}\")\n",
    "\n",
    "# MVPs pro Saison\n",
    "print(\"\\nMVPs pro Saison:\")\n",
    "print(df_final[df_final[\"MVP\"] == 1].groupby(\"Season\").size())"
   ]
  },
  {
   "cell_type": "markdown",
   "id": "319e961e",
   "metadata": {},
   "source": [
    "## 4. Feature Engineering\n"
   ]
  },
  {
   "cell_type": "markdown",
   "id": "209a239a",
   "metadata": {},
   "source": [
    "## 5. Explorative Datenanalyse (EDA)\n"
   ]
  },
  {
   "cell_type": "markdown",
   "id": "96b0f023",
   "metadata": {},
   "source": [
    "## 6. Modelltraining\n"
   ]
  },
  {
   "cell_type": "markdown",
   "id": "a5d4535f",
   "metadata": {},
   "source": [
    "## 7. Modellbewertung (Model Evaluation)\n"
   ]
  },
  {
   "cell_type": "markdown",
   "id": "38e0a4bd",
   "metadata": {},
   "source": [
    "## 8. Deployment\n"
   ]
  },
  {
   "cell_type": "markdown",
   "id": "37431fed",
   "metadata": {},
   "source": [
    "## 9. Fazit und Ausblick\n"
   ]
  },
  {
   "cell_type": "markdown",
   "id": "238d21d5",
   "metadata": {},
   "source": [
    "## 10. Anhang\n"
   ]
  }
 ],
 "metadata": {
  "kernelspec": {
   "display_name": "Python 3",
   "language": "python",
   "name": "python3"
  },
  "language_info": {
   "codemirror_mode": {
    "name": "ipython",
    "version": 3
   },
   "file_extension": ".py",
   "mimetype": "text/x-python",
   "name": "python",
   "nbconvert_exporter": "python",
   "pygments_lexer": "ipython3",
   "version": "3.12.1"
  }
 },
 "nbformat": 4,
 "nbformat_minor": 5
}
